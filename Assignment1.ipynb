{
 "cells": [
  {
   "cell_type": "code",
   "execution_count": 54,
   "metadata": {
    "collapsed": false
   },
   "outputs": [
   ],
   "source": [
    "def balanced_coloring(G,k):\n",
    "    \"\"\"\"\n",
    "    Return the balanced coloring to G\n",
    "    \"\"\"\n",
    "    from sage.numerical.mip import MixedIntegerLinearProgram, MIPSolverException\n",
    "    C = range(k)\n",
    "    \n",
    "    # initialize a minimization program\n",
    "    p = MixedIntegerLinearProgram(maximization=False)\n",
    "    \n",
    "    # declaring variables\n",
    "    x = p.new_variable(binary=True, name='x')\n",
    "    y = p.new_variable(binary=True, name='y')\n",
    "    B = p.new_variable(integer=True, nonnegative=True)\n",
    "    m = p.new_variable(integer=True, nonnegative=True)\n",
    "    # add constraints:\n",
    "    for u, v, label in G.edges():\n",
    "        for j in C:\n",
    "            p.add_constraint(x[u,j] + x[v,j] <= 1)\n",
    "    for i in G.vertices():\n",
    "        for j in C:\n",
    "            p.add_constraint(x[i,j] <= y[j])\n",
    "    for i in G.vertices():\n",
    "        soma = sum([x[i,j] for j in C])\n",
    "        p.add_constraint(soma == 1)\n",
    "    for j in C:\n",
    "        p.add_constraint(m[j] == sum(x[i,j] for i in G.vertices()))\n",
    "    for j in C:\n",
    "        for i in C:\n",
    "            p.add_constraint(B[0] >= m[j] - m[i])\n",
    "    p.add_constraint(sum(y[j] for j in C) == k)\n",
    "    \n",
    "    # add objective to minimize\n",
    "    p.set_objective (B[0])\n",
    "\n",
    "    try:\n",
    "        p.solve()\n",
    "    except MIPSolverException:\n",
    "        print(\"the problem has no feasible solution\")\n",
    "        return []\n",
    "\n",
    "    # get result as a dictionary vertex -> value\n",
    "    x_val = p.get_values(x)\n",
    "    m_val = p.get_values(m)\n",
    "    #y_val = p.get_values(y)\n",
    "    #VC = [u for u in G if x_val[u] == 1]\n",
    "    # or\n",
    "    # b_val = p.get_values(b, convert=bool, tolerance=0.001)\n",
    "    # VC = [u for u in G if b_val[u]]\n",
    "    res = p.get_values(B)\n",
    "    return x_val,m_val,res"
   ]
  },
  {
   "cell_type": "code",
   "execution_count": 65,
   "metadata": {
    "collapsed": false
   },
   "outputs": [
    {
     "name": "stdout",
     "output_type": "stream",
     "text": [
      "my result = {0: 3.0, 1: 3.0, 2: 4.0}\n",
      "B is equal to ={0: 1.0}\n",
      "my result = {0: 2.0, 1: 2.0, 2: 3.0, 3: 3.0}\n",
      "B is equal to ={0: 1.0}\n",
      "my result = {0: 2.0, 1: 2.0, 2: 2.0, 3: 2.0, 4: 2.0}\n",
      "B is equal to ={0: 0.0}\n",
      "my result = {0: 1.0, 1: 2.0, 2: 2.0, 3: 2.0, 4: 1.0, 5: 2.0}\n",
      "B is equal to ={0: 1.0}\n",
      "my result = {0: 2.0, 1: 1.0, 2: 1.0, 3: 2.0, 4: 1.0, 5: 2.0, 6: 1.0}\n",
      "B is equal to ={0: 1.0}\n"
     ]
    },
    {
     "name": "stdout",
     "output_type": "stream",
     "text": [
      "my result = {0: 1.0, 1: 2.0, 2: 1.0, 3: 1.0, 4: 1.0, 5: 2.0, 6: 1.0, 7: 1.0}\n",
      "B is equal to ={0: 1.0}\n",
      "my result = {0: 1.0, 1: 1.0, 2: 1.0, 3: 1.0, 4: 2.0, 5: 1.0, 6: 1.0, 7: 1.0, 8: 1.0}\n",
      "B is equal to ={0: 1.0}\n",
      "my result = {0: 1.0, 1: 1.0, 2: 1.0, 3: 1.0, 4: 1.0, 5: 1.0, 6: 1.0, 7: 1.0, 8: 1.0, 9: 1.0}\n",
      "B is equal to ={0: 0.0}\n"
     ]
    }
   ],
   "source": [
    "G = graphs.PetersenGraph()\n",
    "#k = 5\n",
    "#x_val,my_result,B = balanced_coloring(G,k)\n",
    "#print(\"my result = {}\".format(my_result))\n",
    "#print(\"B is equal to ={}\".format(B))\n",
    "#print(x_val)\n",
    "for i in range(3,11): # 3 colors to 10\n",
    "    x_val,my_result,B = balanced_coloring(G,i)\n",
    "    print(\"my result = {}\".format(my_result))\n",
    "    print(\"B is equal to ={}\".format(B))"
   ]
  },
  {
   "cell_type": "code",
   "execution_count": 73,
   "metadata": {
    "collapsed": false
   },
   "outputs": [
    {
     "name": "stdout",
     "output_type": "stream",
     "text": [
      "my result = {0: 4.0, 1: 5.0}\n",
      "B is equal to ={0: 1.0}\n",
      "my result = {0: 3.0, 1: 3.0, 2: 3.0}\n",
      "B is equal to ={0: 0.0}\n",
      "my result = {0: 2.0, 1: 2.0, 2: 2.0, 3: 3.0}\n",
      "B is equal to ={0: 1.0}\n",
      "my result = {0: 2.0, 1: 2.0, 2: 2.0, 3: 2.0, 4: 1.0}\n",
      "B is equal to ={0: 1.0}\n",
      "my result = {0: 1.0, 1: 1.0, 2: 2.0, 3: 1.0, 4: 2.0, 5: 2.0}\n",
      "B is equal to ={0: 1.0}\n",
      "my result = {0: 1.0, 1: 1.0, 2: 1.0, 3: 1.0, 4: 1.0, 5: 2.0, 6: 2.0}\n",
      "B is equal to ={0: 1.0}\n"
     ]
    },
    {
     "name": "stdout",
     "output_type": "stream",
     "text": [
      "my result = {0: 1.0, 1: 1.0, 2: 1.0, 3: 1.0, 4: 1.0, 5: 1.0, 6: 1.0, 7: 2.0}\n",
      "B is equal to ={0: 1.0}\n",
      "my result = {0: 1.0, 1: 1.0, 2: 1.0, 3: 1.0, 4: 1.0, 5: 1.0, 6: 1.0, 7: 1.0, 8: 1.0}\n",
      "B is equal to ={0: 0.0}\n"
     ]
    }
   ],
   "source": [
    "G = graphs.GridGraph([3,3])\n",
    "for i in range(2,10): #  colors to 9\n",
    "    x_val,my_result,B = balanced_coloring(G,i)\n",
    "    print(\"my result = {}\".format(my_result))\n",
    "    print(\"B is equal to ={}\".format(B))"
   ]
  },
  {
   "cell_type": "code",
   "execution_count": 71,
   "metadata": {
    "collapsed": false
   },
   "outputs": [
    {
     "name": "stdout",
     "output_type": "stream",
     "text": [
      "my result = {0: 8.0, 1: 8.0}\n",
      "B is equal to ={0: 0.0}\n",
      "my result = {0: 5.0, 1: 5.0, 2: 6.0}\n",
      "B is equal to ={0: 1.0}\n",
      "my result = {0: 4.0, 1: 4.0, 2: 4.0, 3: 4.0}\n",
      "B is equal to ={0: 0.0}\n",
      "my result = {0: 3.0, 1: 3.0, 2: 3.0, 3: 3.0, 4: 4.0}\n",
      "B is equal to ={0: 1.0}\n",
      "my result = {0: 3.0, 1: 2.0, 2: 3.0, 3: 3.0, 4: 2.0, 5: 3.0}\n",
      "B is equal to ={0: 1.0}\n",
      "my result = {0: 2.0, 1: 2.0, 2: 3.0, 3: 3.0, 4: 2.0, 5: 2.0, 6: 2.0}\n",
      "B is equal to ={0: 1.0}\n",
      "my result = {0: 2.0, 1: 2.0, 2: 2.0, 3: 2.0, 4: 2.0, 5: 2.0, 6: 2.0, 7: 2.0}\n",
      "B is equal to ={0: 0.0}\n"
     ]
    },
    {
     "ename": "KeyboardInterrupt",
     "evalue": "",
     "output_type": "error",
     "traceback": [
      "\u001b[0;31m---------------------------------------------------------------------------\u001b[0m",
      "\u001b[0;31mKeyboardInterrupt\u001b[0m                         Traceback (most recent call last)",
      "\u001b[0;32m<ipython-input-71-734ea0280c1d>\u001b[0m in \u001b[0;36m<module>\u001b[0;34m\u001b[0m\n\u001b[1;32m      2\u001b[0m \u001b[0;32mfor\u001b[0m \u001b[0mi\u001b[0m \u001b[0;32min\u001b[0m \u001b[0mrange\u001b[0m\u001b[0;34m(\u001b[0m\u001b[0mInteger\u001b[0m\u001b[0;34m(\u001b[0m\u001b[0;36m2\u001b[0m\u001b[0;34m)\u001b[0m\u001b[0;34m,\u001b[0m\u001b[0mInteger\u001b[0m\u001b[0;34m(\u001b[0m\u001b[0;36m17\u001b[0m\u001b[0;34m)\u001b[0m\u001b[0;34m)\u001b[0m\u001b[0;34m:\u001b[0m \u001b[0;31m#  colors to 16\u001b[0m\u001b[0;34m\u001b[0m\u001b[0;34m\u001b[0m\u001b[0m\n\u001b[1;32m      3\u001b[0m     \u001b[0;32mif\u001b[0m \u001b[0mi\u001b[0m \u001b[0;34m!=\u001b[0m \u001b[0mInteger\u001b[0m\u001b[0;34m(\u001b[0m\u001b[0;36m12\u001b[0m\u001b[0;34m)\u001b[0m\u001b[0;34m:\u001b[0m\u001b[0;34m\u001b[0m\u001b[0;34m\u001b[0m\u001b[0m\n\u001b[0;32m----> 4\u001b[0;31m         \u001b[0mx_val\u001b[0m\u001b[0;34m,\u001b[0m\u001b[0mmy_result\u001b[0m\u001b[0;34m,\u001b[0m\u001b[0mB\u001b[0m \u001b[0;34m=\u001b[0m \u001b[0mbalanced_coloring\u001b[0m\u001b[0;34m(\u001b[0m\u001b[0mG\u001b[0m\u001b[0;34m,\u001b[0m\u001b[0mi\u001b[0m\u001b[0;34m)\u001b[0m\u001b[0;34m\u001b[0m\u001b[0;34m\u001b[0m\u001b[0m\n\u001b[0m\u001b[1;32m      5\u001b[0m     \u001b[0mprint\u001b[0m\u001b[0;34m(\u001b[0m\u001b[0;34m\"my result = {}\"\u001b[0m\u001b[0;34m.\u001b[0m\u001b[0mformat\u001b[0m\u001b[0;34m(\u001b[0m\u001b[0mmy_result\u001b[0m\u001b[0;34m)\u001b[0m\u001b[0;34m)\u001b[0m\u001b[0;34m\u001b[0m\u001b[0;34m\u001b[0m\u001b[0m\n\u001b[1;32m      6\u001b[0m     \u001b[0mprint\u001b[0m\u001b[0;34m(\u001b[0m\u001b[0;34m\"B is equal to ={}\"\u001b[0m\u001b[0;34m.\u001b[0m\u001b[0mformat\u001b[0m\u001b[0;34m(\u001b[0m\u001b[0mB\u001b[0m\u001b[0;34m)\u001b[0m\u001b[0;34m)\u001b[0m\u001b[0;34m\u001b[0m\u001b[0;34m\u001b[0m\u001b[0m\n",
      "\u001b[0;32m<ipython-input-54-7cbebd89282a>\u001b[0m in \u001b[0;36mbalanced_coloring\u001b[0;34m(G, k)\u001b[0m\n\u001b[1;32m     34\u001b[0m \u001b[0;34m\u001b[0m\u001b[0m\n\u001b[1;32m     35\u001b[0m     \u001b[0;32mtry\u001b[0m\u001b[0;34m:\u001b[0m\u001b[0;34m\u001b[0m\u001b[0;34m\u001b[0m\u001b[0m\n\u001b[0;32m---> 36\u001b[0;31m         \u001b[0mp\u001b[0m\u001b[0;34m.\u001b[0m\u001b[0msolve\u001b[0m\u001b[0;34m(\u001b[0m\u001b[0;34m)\u001b[0m\u001b[0;34m\u001b[0m\u001b[0;34m\u001b[0m\u001b[0m\n\u001b[0m\u001b[1;32m     37\u001b[0m     \u001b[0;32mexcept\u001b[0m \u001b[0mMIPSolverException\u001b[0m\u001b[0;34m:\u001b[0m\u001b[0;34m\u001b[0m\u001b[0;34m\u001b[0m\u001b[0m\n\u001b[1;32m     38\u001b[0m         \u001b[0mprint\u001b[0m\u001b[0;34m(\u001b[0m\u001b[0;34m\"the problem has no feasible solution\"\u001b[0m\u001b[0;34m)\u001b[0m\u001b[0;34m\u001b[0m\u001b[0;34m\u001b[0m\u001b[0m\n",
      "\u001b[0;32m/ext/sage/9.4/local/lib/python3.9/site-packages/sage/numerical/mip.pyx\u001b[0m in \u001b[0;36msage.numerical.mip.MixedIntegerLinearProgram.solve (build/cythonized/sage/numerical/mip.c:17174)\u001b[0;34m()\u001b[0m\n\u001b[1;32m   2553\u001b[0m         \"\"\"\n\u001b[1;32m   2554\u001b[0m         \u001b[0;32mif\u001b[0m \u001b[0mlog\u001b[0m \u001b[0;32mis\u001b[0m \u001b[0;32mnot\u001b[0m \u001b[0;32mNone\u001b[0m\u001b[0;34m:\u001b[0m \u001b[0mself\u001b[0m\u001b[0;34m.\u001b[0m\u001b[0m_backend\u001b[0m\u001b[0;34m.\u001b[0m\u001b[0mset_verbosity\u001b[0m\u001b[0;34m(\u001b[0m\u001b[0mlog\u001b[0m\u001b[0;34m)\u001b[0m\u001b[0;34m\u001b[0m\u001b[0;34m\u001b[0m\u001b[0m\n\u001b[0;32m-> 2555\u001b[0;31m         \u001b[0mself\u001b[0m\u001b[0;34m.\u001b[0m\u001b[0m_backend\u001b[0m\u001b[0;34m.\u001b[0m\u001b[0msolve\u001b[0m\u001b[0;34m(\u001b[0m\u001b[0;34m)\u001b[0m\u001b[0;34m\u001b[0m\u001b[0;34m\u001b[0m\u001b[0m\n\u001b[0m\u001b[1;32m   2556\u001b[0m         \u001b[0;32mreturn\u001b[0m \u001b[0mself\u001b[0m\u001b[0;34m.\u001b[0m\u001b[0m_backend\u001b[0m\u001b[0;34m.\u001b[0m\u001b[0mget_objective_value\u001b[0m\u001b[0;34m(\u001b[0m\u001b[0;34m)\u001b[0m\u001b[0;34m\u001b[0m\u001b[0;34m\u001b[0m\u001b[0m\n\u001b[1;32m   2557\u001b[0m \u001b[0;34m\u001b[0m\u001b[0m\n",
      "\u001b[0;32m/ext/sage/9.4/local/lib/python3.9/site-packages/sage/numerical/backends/glpk_backend.pyx\u001b[0m in \u001b[0;36msage.numerical.backends.glpk_backend.GLPKBackend.solve (build/cythonized/sage/numerical/backends/glpk_backend.c:9994)\u001b[0;34m()\u001b[0m\n\u001b[1;32m   1129\u001b[0m         if ((self.simplex_or_intopt == glp_intopt_only)\n\u001b[1;32m   1130\u001b[0m             or (self.simplex_or_intopt == glp_simplex_then_intopt) and (solution_status != GLP_UNDEF) and (solution_status != GLP_NOFEAS)):\n\u001b[0;32m-> 1131\u001b[0;31m             \u001b[0msig_on\u001b[0m\u001b[0;34m(\u001b[0m\u001b[0;34m)\u001b[0m\u001b[0;34m\u001b[0m\u001b[0;34m\u001b[0m\u001b[0m\n\u001b[0m\u001b[1;32m   1132\u001b[0m             \u001b[0msolve_status\u001b[0m \u001b[0;34m=\u001b[0m \u001b[0mglp_intopt\u001b[0m\u001b[0;34m(\u001b[0m\u001b[0mself\u001b[0m\u001b[0;34m.\u001b[0m\u001b[0mlp\u001b[0m\u001b[0;34m,\u001b[0m \u001b[0mself\u001b[0m\u001b[0;34m.\u001b[0m\u001b[0miocp\u001b[0m\u001b[0;34m)\u001b[0m\u001b[0;34m\u001b[0m\u001b[0;34m\u001b[0m\u001b[0m\n\u001b[1;32m   1133\u001b[0m             \u001b[0msolution_status\u001b[0m \u001b[0;34m=\u001b[0m \u001b[0mglp_mip_status\u001b[0m\u001b[0;34m(\u001b[0m\u001b[0mself\u001b[0m\u001b[0;34m.\u001b[0m\u001b[0mlp\u001b[0m\u001b[0;34m)\u001b[0m\u001b[0;34m\u001b[0m\u001b[0;34m\u001b[0m\u001b[0m\n",
      "\u001b[0;31mKeyboardInterrupt\u001b[0m: "
     ]
    }
   ],
   "source": [
    "G = graphs.GridGraph([4,4])\n",
    "for i in range(2,17): #  colors to 16\n",
    "        x_val,my_result,B = balanced_coloring(G,i)\n",
    "    print(\"my result = {}\".format(my_result))\n",
    "    print(\"B is equal to ={}\".format(B))"
   ]
  },
  {
   "cell_type": "code",
   "execution_count": 7,
   "metadata": {
    "collapsed": false
   },
   "outputs": [
   ],
   "source": [
    "def balanced_coloring_2(G):\n",
    "    \"\"\"\"\n",
    "    Return the balanced coloring to G\n",
    "    \"\"\"\n",
    "    from sage.numerical.mip import MixedIntegerLinearProgram, MIPSolverException\n",
    "    \n",
    "    # initialize a minimization program\n",
    "    p = MixedIntegerLinearProgram(maximization=False)\n",
    "    \n",
    "    C = range(G.chromatic_number())\n",
    "    # declaring variables\n",
    "    x = p.new_variable(binary=True, name='x')\n",
    "    y = p.new_variable(binary=True, name='y')\n",
    "    m = p.new_variable(integer=True, nonnegative=True)\n",
    "\n",
    "    # add constraints:\n",
    "    for u, v, label in G.edges():\n",
    "        for j in C:\n",
    "            p.add_constraint(x[u,j] + x[v,j] <= 1)\n",
    "    for i in G.vertices():\n",
    "        for j in C:\n",
    "            p.add_constraint(x[i,j] <= y[j])\n",
    "    for i in G.vertices():\n",
    "        soma = sum([x[i,j] for j in C])\n",
    "        p.add_constraint(soma == 1)\n",
    "    for j in C:\n",
    "        p.add_constraint(m[j] == sum(x[i,j] for i in G.vertices()))\n",
    "    for j in C:\n",
    "        for i in C:\n",
    "            p.add_constraint(2 >= m[j] - m[i])\n",
    "    \n",
    "    # add objective to minimize\n",
    "    p.set_objective (sum(y[i] for i in C))\n",
    "\n",
    "    try:\n",
    "        p.solve()\n",
    "    except MIPSolverException:\n",
    "        print(\"the problem has no feasible solution\")\n",
    "        return []\n",
    "\n",
    "    # get result as a dictionary vertex -> value\n",
    "    x_val = p.get_values(x)\n",
    "    m_val = p.get_values(m)\n",
    "    #VC = [u for u in G if x_val[u] == 1]\n",
    "    # or\n",
    "    # b_val = p.get_values(b, convert=bool, tolerance=0.001)\n",
    "    # VC = [u for u in G if b_val[u]]\n",
    "    res = p.solve(objective_only=True)\n",
    "    return x_val,m_val,res"
   ]
  },
  {
   "cell_type": "code",
   "execution_count": 72,
   "metadata": {
    "collapsed": false
   },
   "outputs": [
    {
     "name": "stdout",
     "output_type": "stream",
     "text": [
      "my result = {0: 5.0, 1: 3.0, 2: 4.0, 3: 5.0, 4: 3.0}\n",
      "K is equal to = 5.0\n"
     ]
    }
   ],
   "source": [
    "G = graphs.RandomGNP(20, .3)\n",
    "x_val,my_result, k= balanced_coloring_2(G)\n",
    "print(\"my result = {}\".format(my_result))\n",
    "print(\"K is equal to = {}\".format(k))\n",
    "#print(x_val)"
   ]
  },
  {
   "cell_type": "code",
   "execution_count": 0,
   "metadata": {
    "collapsed": false
   },
   "outputs": [
   ],
   "source": [
   ]
  }
 ],
 "metadata": {
  "kernelspec": {
   "display_name": "SageMath 9.4",
   "language": "sagemath",
   "metadata": {
    "cocalc": {
     "description": "Open-source mathematical software system",
     "priority": 10,
     "url": "https://www.sagemath.org/"
    }
   },
   "name": "sage-9.4",
   "resource_dir": "/ext/jupyter/kernels/sage-9.4"
  },
  "language_info": {
   "codemirror_mode": {
    "name": "ipython",
    "version": 3
   },
   "file_extension": ".py",
   "mimetype": "text/x-python",
   "name": "python",
   "nbconvert_exporter": "python",
   "pygments_lexer": "ipython3",
   "version": "3.9.5"
  }
 },
 "nbformat": 4,
 "nbformat_minor": 4
}
