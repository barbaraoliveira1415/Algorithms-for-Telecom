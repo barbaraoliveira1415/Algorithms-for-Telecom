{
 "cells": [
  {
   "cell_type": "code",
   "execution_count": 162,
   "metadata": {
    "collapsed": false
   },
   "outputs": [
   ],
   "source": [
    "def flow_minicost(G,K,alpa,bet,gam):\n",
    "    #Minimizing the cost of fractional multicomodity flow\n",
    "\n",
    "    from sage.numerical.mip import MixedIntegerLinearProgram, MIPSolverException\n",
    "\n",
    "    # initialize a minimization program\n",
    "    p = MixedIntegerLinearProgram(maximization=False)\n",
    "    Kk = range(len(K))\n",
    "    sk = np.zeros(10)\n",
    "    tk = np.zeros(10)\n",
    "    bk = np.zeros(10)\n",
    "    for k in range(0,10):\n",
    "        sk[k], tk[k], bk[k] = K[k]\n",
    "    print(bk)\n",
    "    # declaring variables\n",
    "    x = p.new_variable(real= True, nonnegative = True, name='x')\n",
    "    z = p.new_variable(binary=True, name='z') #if the arc is used at least one request\n",
    "    y = p.new_variable(binary=True, name = 'y') #a pair of arcs uv and vu is used\n",
    "    c = p.new_variable(integer = True, nonnegative = True, name = 'c') #capacity\n",
    "    # add constraints:\n",
    "    for k in range(0,10):\n",
    "        for u, v, label in G.edges():\n",
    "            p.add_constraint(x[u,v,k] <= z[u,v]*100)\n",
    "    for u,v, label in G.edges():\n",
    "        p.add_constraint(0<= z[u,v] + z[v,u] - 2*y[u,v])\n",
    "        p.add_constraint(z[u,v] + z[v,u] - 2*y[u,v] <=1)\n",
    "    for k in Kk:\n",
    "        for u in G.vertices():\n",
    "            if (u==sk[k]):\n",
    "                p.add_constraint(sum(x[u,v,k] for v in G.neighbors(u)) - sum(x[v,u,k] for v in G.neighbors(u)) == bk[k])\n",
    "            elif (u==tk[k]):\n",
    "                p.add_constraint(sum(x[u,v,k] for v in G.neighbors(u)) - sum(x[v,u,k] for v in G.neighbors(u)) == -bk[k])\n",
    "            else:\n",
    "                p.add_constraint(sum(x[u,v,k] for v in G.neighbors(u)) - sum(x[v,u,k] for v in G.neighbors(u)) == 0)\n",
    "    for u,v, label in G.edges():\n",
    "        p.add_constraint(sum(x[u,v,k] for k in Kk) <= c[0])\n",
    "\n",
    "    #add objective to minimize\n",
    "\n",
    "    #p.set_objective(sum(z[u,v] for u, v, label in G.edges())*alpa + sum(sum(x[u,v,k] for u, v, label in G.edges()) for k in Kk)*bet - sum(y[u,v] for u, v, label in G.edges())*gam*0.5)\n",
    "    p.set_objective(c[0])\n",
    "    #try:\n",
    "    p.solve()\n",
    "    #except MIPSolverException:\n",
    "        #print(\"the problem has no feasible solution\")\n",
    "        #return []\n",
    "\n",
    "    c_result = p.get_values(c)\n",
    "    return c_result"
   ]
  },
  {
   "cell_type": "code",
   "execution_count": 163,
   "metadata": {
    "collapsed": false
   },
   "outputs": [
    {
     "name": "stdout",
     "output_type": "stream",
     "text": [
      "[1. 2. 1. 1. 3. 2. 1. 1. 1. 2.]\n",
      "{0: 5.0}\n"
     ]
    }
   ],
   "source": [
    "import numpy as np\n",
    "\n",
    "G = graphs.CycleGraph(10)\n",
    "G.add_edges([(1, 3), (4, 9), (5, 8)])\n",
    "G = DiGraph(G)\n",
    "K = [(0, 1, 1), (0, 5, 2), (0, 6, 1), (1, 2, 1), (2, 9, 3), (1, 6, 2), (2, 7, 1), (2, 8, 1), (6, 5, 1), (8, 1, 2)]\n",
    "alpa = 100\n",
    "bet = 5\n",
    "gam = 20\n",
    "c_result = flow_minicost(G,K,alpa,bet,gam)\n",
    "print(c_result)"
   ]
  },
  {
   "cell_type": "code",
   "execution_count": 1,
   "metadata": {
    "collapsed": false
   },
   "outputs": [
   ],
   "source": [
    "def flow_minicost2(G,K,alpa,bet,gam,delt):\n",
    "    #Minimizing the cost of fractional multicomodity flow\n",
    "\n",
    "    from sage.numerical.mip import MixedIntegerLinearProgram, MIPSolverException\n",
    "\n",
    "    # initialize a minimization program\n",
    "    p = MixedIntegerLinearProgram(maximization=False)\n",
    "    Kk = range(len(K))\n",
    "    sk = np.zeros(10)\n",
    "    tk = np.zeros(10)\n",
    "    bk = np.zeros(10)\n",
    "    for k in range(0,10):\n",
    "        sk[k], tk[k], bk[k] = K[k]\n",
    "    print(bk)\n",
    "    # declaring variables\n",
    "    x = p.new_variable(real= True, nonnegative = True, name='x')\n",
    "    z = p.new_variable(binary=True, name='z') #if the arc is used at least one request\n",
    "    y = p.new_variable(binary=True, name = 'y') #a pair of arcs uv and vu is used\n",
    "    c = p.new_variable(integer = True, nonnegative = True, name = 'c') #capacity\n",
    "    w = p.new_variable(real = True, nonnegative = True, name = 'w')\n",
    "\n",
    "    # add constraints:\n",
    "    for k in range(0,10):\n",
    "        for u, v, label in G.edges():\n",
    "            p.add_constraint(x[u,v,k] <= z[u,v]*100)\n",
    "    for u,v, label in G.edges():\n",
    "        p.add_constraint(0<= z[u,v] + z[v,u] - 2*y[u,v])\n",
    "        p.add_constraint(z[u,v] + z[v,u] - 2*y[u,v] <=1)\n",
    "    #for u, v, label in G.edges():\n",
    "        #p.add_constraint(sum(sum(x[u,v,k] for u, v, label in G.edges())) for k in K == t[u,v])\n",
    "    for k in Kk:\n",
    "        for u in G.vertices():\n",
    "            if (u==sk[k]):\n",
    "                p.add_constraint(sum(x[u,v,k] for v in G.neighbors(u)) - sum(x[v,u,k] for v in G.neighbors(u)) == bk[k])\n",
    "            elif (u==tk[k]):\n",
    "                p.add_constraint(sum(x[u,v,k] for v in G.neighbors(u)) - sum(x[v,u,k] for v in G.neighbors(u)) == -bk[k])\n",
    "            else:\n",
    "                p.add_constraint(sum(x[u,v,k] for v in G.neighbors(u)) - sum(x[v,u,k] for v in G.neighbors(u)) == 0)\n",
    "    for u,v, label in G.edges():\n",
    "        p.add_constraint(sum(x[u,v,k] for k in Kk) <= c[0])\n",
    "\n",
    "    for u in G.vertices():\n",
    "        for k in Kk:\n",
    "            if(u == tk[k]):\n",
    "                p.add_constraint(w[u,k] == 0)\n",
    "            else:\n",
    "                p.add_constraint(w[u,k] == sum(x[u,v,k] for v in G.neighbors(u)))\n",
    "    #add objective to minimize\n",
    "    p.set_objective(sum(z[u,v] for u, v, label in G.edges())*alpa + sum(sum(x[u,v,k] for u, v, label in G.edges()) for k in Kk)*bet - sum(y[u,v] for u, v, label in G.edges())*gam*0.5 + sum(sum(w[u,k] for u in G.vertices()) for k in Kk)*delt)\n",
    "    #p.set_objective(c[0])\n",
    "    #try:\n",
    "    p.solve()\n",
    "    #except MIPSolverException:\n",
    "        #print(\"the problem has no feasible solution\")\n",
    "        #return []\n",
    "    c_result = p.get_values(c)\n",
    "    return c_result"
   ]
  },
  {
   "cell_type": "code",
   "execution_count": 2,
   "metadata": {
    "collapsed": false
   },
   "outputs": [
    {
     "name": "stdout",
     "output_type": "stream",
     "text": [
      "[1. 2. 1. 1. 3. 2. 1. 1. 1. 2.]\n"
     ]
    },
    {
     "name": "stdout",
     "output_type": "stream",
     "text": [
      "{0: 10.0}\n"
     ]
    }
   ],
   "source": [
    "import numpy as np\n",
    "\n",
    "G = graphs.CycleGraph(10)\n",
    "G.add_edges([(1, 3), (4, 9), (5, 8)])\n",
    "G = DiGraph(G)\n",
    "K = [(0, 1, 1), (0, 5, 2), (0, 6, 1), (1, 2, 1), (2, 9, 3), (1, 6, 2), (2, 7, 1), (2, 8, 1), (6, 5, 1), (8, 1, 2)]\n",
    "alpa = 100\n",
    "bet = 5\n",
    "gam = 20\n",
    "delt = 10\n",
    "c_result = flow_minicost2(G,K,alpa,bet,gam,delt)\n",
    "print(c_result)"
   ]
  },
  {
   "cell_type": "markdown",
   "metadata": {
    "collapsed": false
   },
   "source": [
    "The effect of the adding \\delta is that we now need to also minimize the quantities of nodes used in the routing traffic."
   ]
  },
  {
   "cell_type": "code",
   "execution_count": 0,
   "metadata": {
    "collapsed": false
   },
   "outputs": [
   ],
   "source": [
   ]
  }
 ],
 "metadata": {
  "kernelspec": {
   "display_name": "SageMath 9.4",
   "language": "sagemath",
   "metadata": {
    "cocalc": {
     "description": "Open-source mathematical software system",
     "priority": 10,
     "url": "https://www.sagemath.org/"
    }
   },
   "name": "sage-9.4",
   "resource_dir": "/ext/jupyter/kernels/sage-9.4"
  },
  "language_info": {
   "codemirror_mode": {
    "name": "ipython",
    "version": 3
   },
   "file_extension": ".py",
   "mimetype": "text/x-python",
   "name": "python",
   "nbconvert_exporter": "python",
   "pygments_lexer": "ipython3",
   "version": "3.9.5"
  }
 },
 "nbformat": 4,
 "nbformat_minor": 4
}