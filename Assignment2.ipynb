{
 "cells": [
  {
   "cell_type": "code",
   "execution_count": 1,
   "metadata": {
    "collapsed": false
   },
   "outputs": [
   ],
   "source": [
    "def traffic_monitoring(G,k,sk,tk,bk):\n",
    "    #Traffic monitoring\n",
    "    \n",
    "    from sage.numerical.mip import MixedIntegerLinearProgram, MIPSolverException\n",
    "    \n",
    "    # initialize a minimization program\n",
    "    p = MixedIntegerLinearProgram(maximization=False)\n",
    "\n",
    "    # declaring variables\n",
    "    y = p.new_variable(binary=True, name='y')\n",
    "    x = p.new_variable(binary=True, name='x')\n",
    "    z = p.new_variable(binary=True, name='z')\n",
    "    c = p.new_variable(integer=True, name = 'c')\n",
    "    q = p.new_variable(integer = True, name = 'q')\n",
    "    # add constraints:\n",
    "    for k in K:\n",
    "        for u, v, label in G.edges():\n",
    "            p.add_constraint(y[u,v,k] <= z[u,v])\n",
    "    for k in K:\n",
    "        for u, v, label in G.edges():\n",
    "            p.add_constraint(z[u,v] <= x[u,v,k])\n",
    "    for k in K:\n",
    "            p.add_constraint(sum(y[u,v,k] for u, v, label in G.edges() >= 1))        \n",
    "    for k in K:\n",
    "        p.add_constraint(sum(x[u,v,k] for u, v, label in G.edges()))\n",
    "    for u in G.vertices():\n",
    "        for k in K:\n",
    "            if (u==sk):\n",
    "                p.add_constraint(sum[u,v,k] for v in G.neighbors(u)) - sum([u,v,k] for v in G.neighbors(u)) == -1)\n",
    "            if (u==tk):\n",
    "                p.add_constraint(sum[u,v,k] for v in G.neighbors(u)) - sum([u,v,k] for v in G.neighbors(u)) == 1)\n",
    "            else:\n",
    "                p.add_constraint(sum[u,v,k] for v in G.neighbors(u)) - sum([u,v,k] for v in G.neighbors(u)) == 0)    \n",
    "    for u,v in G.edges():\n",
    "        p.add_constraint(sum(x[u,v,k]*bk for k in K <= c))\n",
    "    for k in K:\n",
    "        for u,v in G.edges():\n",
    "            p.add_constraint(q[v,k] >= q[u,k] + 1 - n*(1-x[u,v,k]))\n",
    "    # add objective to minimize\n",
    "    p.set_objective (sum(y[u,v] for u,v label in G.edges()))\n",
    "\n",
    "    try:\n",
    "        p.solve()\n",
    "    except MIPSolverException:\n",
    "        print(\"the problem has no feasible solution\")\n",
    "        return []\n",
    "\n",
    " "
   ]
  },
  {
   "cell_type": "code",
   "execution_count": 0,
   "metadata": {
    "collapsed": false
   },
   "outputs": [
   ],
   "source": [
   ]
  },
  {
   "cell_type": "code",
   "execution_count": 0,
   "metadata": {
    "collapsed": false
   },
   "outputs": [
   ],
   "source": [
   ]
  },
  {
   "cell_type": "code",
   "execution_count": 0,
   "metadata": {
    "collapsed": false
   },
   "outputs": [
   ],
   "source": [
   ]
  },
  {
   "cell_type": "code",
   "execution_count": 2,
   "metadata": {
    "collapsed": false
   },
   "outputs": [
   ],
   "source": [
   ]
  },
  {
   "cell_type": "code",
   "execution_count": 4,
   "metadata": {
    "collapsed": false
   },
   "outputs": [
    {
     "ename": "NameError",
     "evalue": "name 'g' is not defined",
     "output_type": "error",
     "traceback": [
      "\u001b[0;31m---------------------------------------------------------------------------\u001b[0m",
      "\u001b[0;31mNameError\u001b[0m                                 Traceback (most recent call last)",
      "\u001b[0;32m<ipython-input-4-044f98b6ee80>\u001b[0m in \u001b[0;36m<module>\u001b[0;34m\u001b[0m\n\u001b[0;32m----> 1\u001b[0;31m \u001b[0mg\u001b[0m\u001b[0;34m.\u001b[0m\u001b[0mflow\u001b[0m\u001b[0;34m(\u001b[0m\u001b[0;34m)\u001b[0m\u001b[0;34m\u001b[0m\u001b[0;34m\u001b[0m\u001b[0m\n\u001b[0m",
      "\u001b[0;31mNameError\u001b[0m: name 'g' is not defined"
     ]
    }
   ],
   "source": [
    "G.flow??"
   ]
  },
  {
   "cell_type": "code",
   "execution_count": 0,
   "metadata": {
    "collapsed": false
   },
   "outputs": [
   ],
   "source": [
   ]
  }
 ],
 "metadata": {
  "kernelspec": {
   "display_name": "SageMath 9.4",
   "language": "sagemath",
   "metadata": {
    "cocalc": {
     "description": "Open-source mathematical software system",
     "priority": 10,
     "url": "https://www.sagemath.org/"
    }
   },
   "name": "sage-9.4",
   "resource_dir": "/ext/jupyter/kernels/sage-9.4"
  },
  "language_info": {
   "codemirror_mode": {
    "name": "ipython",
    "version": 3
   },
   "file_extension": ".py",
   "mimetype": "text/x-python",
   "name": "python",
   "nbconvert_exporter": "python",
   "pygments_lexer": "ipython3",
   "version": "3.9.5"
  }
 },
 "nbformat": 4,
 "nbformat_minor": 4
}